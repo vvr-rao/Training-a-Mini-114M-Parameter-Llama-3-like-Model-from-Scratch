{
  "nbformat": 4,
  "nbformat_minor": 0,
  "metadata": {
    "colab": {
      "provenance": []
    },
    "kernelspec": {
      "name": "python3",
      "display_name": "Python 3"
    },
    "language_info": {
      "name": "python"
    }
  },
  "cells": [
    {
      "cell_type": "code",
      "execution_count": null,
      "metadata": {
        "id": "2wl5KnBeLzl7"
      },
      "outputs": [],
      "source": [
        "!pip install boto3"
      ]
    },
    {
      "cell_type": "code",
      "source": [
        "from S3Helper import *"
      ],
      "metadata": {
        "id": "GculxTafMV2Q"
      },
      "execution_count": null,
      "outputs": []
    },
    {
      "cell_type": "code",
      "source": [
        "local_dir = \"edu_fineweb10B\"\n",
        "os.makedirs(local_dir, exist_ok=True)"
      ],
      "metadata": {
        "id": "t-T4UvP8MH00"
      },
      "execution_count": null,
      "outputs": []
    },
    {
      "cell_type": "code",
      "source": [
        "bucket_name = \"fineweb-10b-tokenized-071024\"\n",
        "folder_name = \"edu_fineweb10B\"\n",
        "#bucket_and_folder_name = \"fineweb-10b-tokenized-071024/edu_fineweb10B\"\n",
        "bucket_and_folder_name = bucket_name + \"/\" + folder_name\n",
        "print(bucket_and_folder_name)\n",
        "download_dataset(bucket_name, folder_name, local_dir)"
      ],
      "metadata": {
        "id": "eKFkBbqWMID6"
      },
      "execution_count": null,
      "outputs": []
    },
    {
      "cell_type": "code",
      "source": [],
      "metadata": {
        "id": "IGbgmDf0MIOH"
      },
      "execution_count": null,
      "outputs": []
    }
  ]
}